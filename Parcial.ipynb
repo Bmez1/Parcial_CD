{
 "cells": [
  {
   "cell_type": "code",
   "execution_count": null,
   "metadata": {},
   "outputs": [],
   "source": [
    "import pandas as pd\n",
    "import matplotlib.pyplot as plt\n",
    "import numpy as np\n",
    "import seaborn as sb\n",
    "\n",
    "COLUMNS = ['Status','Duration','Credit History','Purpose','Credit Amount','Saving Account', 'Present Employment Since',\n",
    "           'Rate','Status and Sex','Debtors/Guarantors','Residence Since','Property','Age','Plans','Housing','Number',\n",
    "           'Job','Number of people','Telephone','Foreing Worker','Apt']\n",
    "data = pd.read_csv(\"C:/Users/Bmez/Desktop/Ciencia de datos/Parcial/german.data\", delimiter = ' ', names = COLUMNS)\n",
    "data.head()"
   ]
  },
  {
   "cell_type": "markdown",
   "metadata": {},
   "source": [
    "## *Número de instancias y atributos:*"
   ]
  },
  {
   "cell_type": "code",
   "execution_count": null,
   "metadata": {},
   "outputs": [],
   "source": [
    "shape = data.shape\n",
    "print(f\"Número de instancias: {shape[0]}\")\n",
    "print(f\"Número de atributos: {shape[1]}\")"
   ]
  },
  {
   "source": [
    "### *El conjunto de datos está etiquetado con la variable de clase Apt"
   ],
   "cell_type": "markdown",
   "metadata": {}
  },
  {
   "cell_type": "code",
   "execution_count": null,
   "metadata": {},
   "outputs": [],
   "source": []
  }
 ],
 "metadata": {
  "kernelspec": {
   "display_name": "Python 3",
   "language": "python",
   "name": "python3"
  },
  "language_info": {
   "codemirror_mode": {
    "name": "ipython",
    "version": 3
   },
   "file_extension": ".py",
   "mimetype": "text/x-python",
   "name": "python",
   "nbconvert_exporter": "python",
   "pygments_lexer": "ipython3",
   "version": "3.7.7-final"
  }
 },
 "nbformat": 4,
 "nbformat_minor": 4
}