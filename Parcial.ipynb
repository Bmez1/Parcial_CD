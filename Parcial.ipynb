{
 "cells": [
  {
   "cell_type": "code",
   "execution_count": null,
   "metadata": {},
   "outputs": [],
   "source": [
    "import pandas as pd\n",
    "import matplotlib.pyplot as plt\n",
    "import numpy as np\n",
    "import seaborn as sb\n",
    "\n",
    "COLUMNS = ['Status','Duration','Credit History','Purpose','Credit Amount','Saving Account', 'Present Employment Since',\n",
    "           'Rate','Status and Sex','Debtors/Guarantors','Residence Since','Property','Age','Plans','Housing','Number',\n",
    "           'Job','Number of people','Telephone','Foreing Worker','Apt']\n",
    "data = pd.read_csv(\"german.data\", delimiter = ' ', names = COLUMNS)\n",
    "data.head()"
   ]
  },
  {
   "cell_type": "markdown",
   "metadata": {},
   "source": [
    "## *Número de instancias y atributos:*"
   ]
  },
  {
   "cell_type": "code",
   "execution_count": 22,
   "metadata": {},
   "outputs": [
    {
     "output_type": "stream",
     "name": "stdout",
     "text": [
      "Número de instancias: 1000\nNúmero de atributos: 21\n"
     ]
    }
   ],
   "source": [
    "shape = data.shape\n",
    "print(f\"Número de instancias: {shape[0]}\")\n",
    "print(f\"Número de atributos: {shape[1]}\")"
   ]
  },
  {
   "source": [
    "### *El conjunto de datos está etiquetado con la variable de clase Apt"
   ],
   "cell_type": "markdown",
   "metadata": {}
  },
  {
   "cell_type": "code",
   "execution_count": 23,
   "metadata": {},
   "outputs": [
    {
     "output_type": "execute_result",
     "data": {
      "text/plain": [
       "Index(['Status', 'Credit History', 'Purpose', 'Saving Account',\n",
       "       'Present Employment Since', 'Status and Sex', 'Debtors/Guarantors',\n",
       "       'Property', 'Plans', 'Housing', 'Job', 'Telephone', 'Foreing Worker'],\n",
       "      dtype='object')"
      ]
     },
     "metadata": {},
     "execution_count": 23
    }
   ],
   "source": [
    "columns_Cat = data.select_dtypes(exclude='int64').columns\n",
    "columns_Cat"
   ]
  },
  {
   "cell_type": "code",
   "execution_count": 24,
   "metadata": {},
   "outputs": [],
   "source": [
    "import json\n",
    "def leer_JSON():\n",
    "    with open('data base.json', 'r') as archivo:\n",
    "        return json.load(archivo)"
   ]
  },
  {
   "cell_type": "code",
   "execution_count": 30,
   "metadata": {},
   "outputs": [],
   "source": [
    "myDict = leer_JSON()"
   ]
  },
  {
   "cell_type": "code",
   "execution_count": 37,
   "metadata": {},
   "outputs": [
    {
     "output_type": "execute_result",
     "data": {
      "text/plain": [
       "  Status  Duration        Credit History              Purpose  Credit Amount  \\\n",
       "0      A         6               Critico             radio/tv           1169   \n",
       "1      B        48  Algunos reembolsados             radio/tv           5951   \n",
       "2      D        12               Critico            education           2096   \n",
       "3      A        42  Algunos reembolsados  furniture/equipment           7882   \n",
       "4      A        24             Retrasado          Carro nuevo           4870   \n",
       "\n",
       "  Saving Account Present Employment Since  Rate Status and Sex  \\\n",
       "0     sin cuenta              Mayor que 6     4      mujer sol   \n",
       "1   Menor de 100              entre 1 y 4     2      mujer DSC   \n",
       "2   Menor de 100              entre 4 y 7     2      mujer sol   \n",
       "3   Menor de 100              entre 4 y 7     2      mujer sol   \n",
       "4   Menor de 100              entre 1 y 4     3      mujer sol   \n",
       "\n",
       "  Debtors/Guarantors  ...        Property Age    Plans Housing Number  \\\n",
       "0            ninguno  ...   bienes raices  67  ninguno  propio      2   \n",
       "1            ninguno  ...   bienes raices  22  ninguno  propio      1   \n",
       "2            ninguno  ...   bienes raices  49  ninguno  propio      1   \n",
       "3             fiador  ...  seguro de vida  45  ninguno  gratis      1   \n",
       "4            ninguno  ...   Sin propiedad  53  ninguno  gratis      2   \n",
       "\n",
       "             Job Number of people  Telephone Foreing Worker Apt  \n",
       "0       empleado                1         si             si   1  \n",
       "1       empleado                1         no             si   2  \n",
       "2  no calificado                2         no             si   1  \n",
       "3       empleado                2         no             si   1  \n",
       "4       empleado                2         no             si   2  \n",
       "\n",
       "[5 rows x 21 columns]"
      ],
      "text/html": "<div>\n<style scoped>\n    .dataframe tbody tr th:only-of-type {\n        vertical-align: middle;\n    }\n\n    .dataframe tbody tr th {\n        vertical-align: top;\n    }\n\n    .dataframe thead th {\n        text-align: right;\n    }\n</style>\n<table border=\"1\" class=\"dataframe\">\n  <thead>\n    <tr style=\"text-align: right;\">\n      <th></th>\n      <th>Status</th>\n      <th>Duration</th>\n      <th>Credit History</th>\n      <th>Purpose</th>\n      <th>Credit Amount</th>\n      <th>Saving Account</th>\n      <th>Present Employment Since</th>\n      <th>Rate</th>\n      <th>Status and Sex</th>\n      <th>Debtors/Guarantors</th>\n      <th>...</th>\n      <th>Property</th>\n      <th>Age</th>\n      <th>Plans</th>\n      <th>Housing</th>\n      <th>Number</th>\n      <th>Job</th>\n      <th>Number of people</th>\n      <th>Telephone</th>\n      <th>Foreing Worker</th>\n      <th>Apt</th>\n    </tr>\n  </thead>\n  <tbody>\n    <tr>\n      <th>0</th>\n      <td>A</td>\n      <td>6</td>\n      <td>Critico</td>\n      <td>radio/tv</td>\n      <td>1169</td>\n      <td>sin cuenta</td>\n      <td>Mayor que 6</td>\n      <td>4</td>\n      <td>mujer sol</td>\n      <td>ninguno</td>\n      <td>...</td>\n      <td>bienes raices</td>\n      <td>67</td>\n      <td>ninguno</td>\n      <td>propio</td>\n      <td>2</td>\n      <td>empleado</td>\n      <td>1</td>\n      <td>si</td>\n      <td>si</td>\n      <td>1</td>\n    </tr>\n    <tr>\n      <th>1</th>\n      <td>B</td>\n      <td>48</td>\n      <td>Algunos reembolsados</td>\n      <td>radio/tv</td>\n      <td>5951</td>\n      <td>Menor de 100</td>\n      <td>entre 1 y 4</td>\n      <td>2</td>\n      <td>mujer DSC</td>\n      <td>ninguno</td>\n      <td>...</td>\n      <td>bienes raices</td>\n      <td>22</td>\n      <td>ninguno</td>\n      <td>propio</td>\n      <td>1</td>\n      <td>empleado</td>\n      <td>1</td>\n      <td>no</td>\n      <td>si</td>\n      <td>2</td>\n    </tr>\n    <tr>\n      <th>2</th>\n      <td>D</td>\n      <td>12</td>\n      <td>Critico</td>\n      <td>education</td>\n      <td>2096</td>\n      <td>Menor de 100</td>\n      <td>entre 4 y 7</td>\n      <td>2</td>\n      <td>mujer sol</td>\n      <td>ninguno</td>\n      <td>...</td>\n      <td>bienes raices</td>\n      <td>49</td>\n      <td>ninguno</td>\n      <td>propio</td>\n      <td>1</td>\n      <td>no calificado</td>\n      <td>2</td>\n      <td>no</td>\n      <td>si</td>\n      <td>1</td>\n    </tr>\n    <tr>\n      <th>3</th>\n      <td>A</td>\n      <td>42</td>\n      <td>Algunos reembolsados</td>\n      <td>furniture/equipment</td>\n      <td>7882</td>\n      <td>Menor de 100</td>\n      <td>entre 4 y 7</td>\n      <td>2</td>\n      <td>mujer sol</td>\n      <td>fiador</td>\n      <td>...</td>\n      <td>seguro de vida</td>\n      <td>45</td>\n      <td>ninguno</td>\n      <td>gratis</td>\n      <td>1</td>\n      <td>empleado</td>\n      <td>2</td>\n      <td>no</td>\n      <td>si</td>\n      <td>1</td>\n    </tr>\n    <tr>\n      <th>4</th>\n      <td>A</td>\n      <td>24</td>\n      <td>Retrasado</td>\n      <td>Carro nuevo</td>\n      <td>4870</td>\n      <td>Menor de 100</td>\n      <td>entre 1 y 4</td>\n      <td>3</td>\n      <td>mujer sol</td>\n      <td>ninguno</td>\n      <td>...</td>\n      <td>Sin propiedad</td>\n      <td>53</td>\n      <td>ninguno</td>\n      <td>gratis</td>\n      <td>2</td>\n      <td>empleado</td>\n      <td>2</td>\n      <td>no</td>\n      <td>si</td>\n      <td>2</td>\n    </tr>\n  </tbody>\n</table>\n<p>5 rows × 21 columns</p>\n</div>"
     },
     "metadata": {},
     "execution_count": 37
    }
   ],
   "source": [
    "for nameCol in columns_Cat:\n",
    "    for key in data[nameCol].unique():\n",
    "        data[nameCol] = data[nameCol].replace(key, myDict[nameCol][key])\n",
    "data.head()"
   ]
  }
 ],
 "metadata": {
  "kernelspec": {
   "display_name": "Python 3",
   "language": "python",
   "name": "python3"
  },
  "language_info": {
   "codemirror_mode": {
    "name": "ipython",
    "version": 3
   },
   "file_extension": ".py",
   "mimetype": "text/x-python",
   "name": "python",
   "nbconvert_exporter": "python",
   "pygments_lexer": "ipython3",
   "version": "3.8.5-final"
  }
 },
 "nbformat": 4,
 "nbformat_minor": 4
}