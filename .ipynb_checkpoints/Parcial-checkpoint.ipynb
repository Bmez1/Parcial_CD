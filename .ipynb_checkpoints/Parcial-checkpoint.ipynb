{
 "cells": [
  {
   "cell_type": "code",
   "execution_count": null,
   "metadata": {},
   "outputs": [],
   "source": [
    "import pandas as pd\n",
    "import matplotlib.pyplot as plt\n",
    "import numpy as np\n",
    "import seaborn as sb\n",
    "\n",
    "COLUMNS = ['Status','Duration','Credit History','Purpose','Credit Amount','Saving Account', 'Present Employment Since',\n",
    "           'Rate','Status and Sex','Debtors/Guarantors','Residence Since','Property','Age','Plans','Housing','Number',\n",
    "           'Job','Number of people','Telephone','Foreing Worker','Apt']\n",
    "data = pd.read_csv(\"german.data\", delimiter = ' ', names = COLUMNS)\n",
    "data.head()"
   ]
  },
  {
   "cell_type": "markdown",
   "metadata": {},
   "source": [
    "## *Número de instancias y atributos:*"
   ]
  },
  {
   "cell_type": "code",
   "execution_count": null,
   "metadata": {},
   "outputs": [],
   "source": [
    "shape = data.shape\n",
    "print(f\"Número de instancias: {shape[0]}\")\n",
    "print(f\"Número de atributos: {shape[1]}\")"
   ]
  },
  {
   "cell_type": "markdown",
   "metadata": {},
   "source": [
    "### *El conjunto de datos está etiquetado con la variable de clase Apt"
   ]
  },
  {
   "cell_type": "code",
   "execution_count": null,
   "metadata": {},
   "outputs": [],
   "source": [
    "columns_Cat = data.select_dtypes(exclude='int64').columns\n",
    "columns_Cat"
   ]
  },
  {
   "cell_type": "code",
   "execution_count": null,
   "metadata": {},
   "outputs": [],
   "source": [
    "import json\n",
    "def leer_JSON():\n",
    "    with open('data base.json', 'r') as archivo:\n",
    "        return json.load(archivo)"
   ]
  },
  {
   "cell_type": "code",
   "execution_count": null,
   "metadata": {},
   "outputs": [],
   "source": [
    "myDict = leer_JSON()"
   ]
  },
  {
   "cell_type": "code",
   "execution_count": null,
   "metadata": {
    "scrolled": true
   },
   "outputs": [],
   "source": [
    "for nameCol in columns_Cat:\n",
    "    for key in data[nameCol].unique():\n",
    "        data[nameCol] = data[nameCol].replace(key, myDict[nameCol][key])\n",
    "data.head()"
   ]
  },
  {
   "cell_type": "markdown",
   "metadata": {},
   "source": [
    "### Cantidad de atributos númerico y categoricos"
   ]
  },
  {
   "cell_type": "code",
   "execution_count": null,
   "metadata": {
    "scrolled": true
   },
   "outputs": [],
   "source": [
    "data['Apt'] = data['Apt'].astype('object')\n",
    "categorico = data.select_dtypes(exclude='int64').columns\n",
    "numerico = data.select_dtypes(exclude='object').columns\n",
    "print(\"Variables categoricas: \", len(categorico))\n",
    "print(\"Variables númericas: \", len(numerico))"
   ]
  },
  {
   "cell_type": "markdown",
   "metadata": {},
   "source": [
    "### Moda de atributos categoricos"
   ]
  },
  {
   "cell_type": "code",
   "execution_count": null,
   "metadata": {
    "scrolled": true
   },
   "outputs": [],
   "source": [
    "data.select_dtypes(exclude='int64').mode()"
   ]
  },
  {
   "cell_type": "markdown",
   "metadata": {},
   "source": [
    "### Media, rango y desviación estandar de cada atributo numérico"
   ]
  },
  {
   "cell_type": "code",
   "execution_count": null,
   "metadata": {},
   "outputs": [],
   "source": [
    "data.describe()"
   ]
  },
  {
   "cell_type": "code",
   "execution_count": 32,
   "metadata": {
    "collapsed": true
   },
   "outputs": [
    {
     "data": {
      "text/plain": [
       "Duration               68\n",
       "Credit Amount       18174\n",
       "Rate                    3\n",
       "Residence Since         3\n",
       "Age                    56\n",
       "Number                  3\n",
       "Number of people        1\n",
       "dtype: int64"
      ]
     },
     "execution_count": 32,
     "metadata": {},
     "output_type": "execute_result"
    }
   ],
   "source": [
    "#rango\n",
    "data.select_dtypes(include='int64').apply(lambda x: max(x)-min(x))"
   ]
  }
 ],
 "metadata": {
  "kernelspec": {
   "display_name": "Python 3",
   "language": "python",
   "name": "python3"
  },
  "language_info": {
   "codemirror_mode": {
    "name": "ipython",
    "version": 3
   },
   "file_extension": ".py",
   "mimetype": "text/x-python",
   "name": "python",
   "nbconvert_exporter": "python",
   "pygments_lexer": "ipython3",
   "version": "3.8.5"
  }
 },
 "nbformat": 4,
 "nbformat_minor": 4
}
